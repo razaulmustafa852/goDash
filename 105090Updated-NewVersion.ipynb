{
 "cells": [
  {
   "cell_type": "code",
   "execution_count": 50,
   "metadata": {},
   "outputs": [],
   "source": [
    "import numpy\n",
    "import pandas as pd\n",
    "import numpy as np\n",
    "import matplotlib.pyplot as plt\n",
    "import seaborn as sns\n",
    "%matplotlib inline\n",
    "sns.set_style(\"whitegrid\")"
   ]
  },
  {
   "cell_type": "code",
   "execution_count": 74,
   "metadata": {},
   "outputs": [],
   "source": [
    "df = pd.read_csv(\"GoDash - Sheet18.csv\")"
   ]
  },
  {
   "cell_type": "code",
   "execution_count": 75,
   "metadata": {},
   "outputs": [
    {
     "data": {
      "text/html": [
       "<div>\n",
       "<style scoped>\n",
       "    .dataframe tbody tr th:only-of-type {\n",
       "        vertical-align: middle;\n",
       "    }\n",
       "\n",
       "    .dataframe tbody tr th {\n",
       "        vertical-align: top;\n",
       "    }\n",
       "\n",
       "    .dataframe thead th {\n",
       "        text-align: right;\n",
       "    }\n",
       "</style>\n",
       "<table border=\"1\" class=\"dataframe\">\n",
       "  <thead>\n",
       "    <tr style=\"text-align: right;\">\n",
       "      <th></th>\n",
       "      <th>Bandwidth</th>\n",
       "      <th>MOS</th>\n",
       "      <th>Percentile</th>\n",
       "      <th>Hosts</th>\n",
       "      <th>Delay</th>\n",
       "      <th>Algorithms</th>\n",
       "      <th>Competition</th>\n",
       "      <th>BWDiff</th>\n",
       "    </tr>\n",
       "  </thead>\n",
       "  <tbody>\n",
       "    <tr>\n",
       "      <td>0</td>\n",
       "      <td>5</td>\n",
       "      <td>1.23</td>\n",
       "      <td>10</td>\n",
       "      <td>1</td>\n",
       "      <td>50</td>\n",
       "      <td>conv</td>\n",
       "      <td>15</td>\n",
       "      <td>5C</td>\n",
       "    </tr>\n",
       "    <tr>\n",
       "      <td>1</td>\n",
       "      <td>5</td>\n",
       "      <td>1.26</td>\n",
       "      <td>Median</td>\n",
       "      <td>1</td>\n",
       "      <td>50</td>\n",
       "      <td>conv</td>\n",
       "      <td>15</td>\n",
       "      <td>5C</td>\n",
       "    </tr>\n",
       "    <tr>\n",
       "      <td>2</td>\n",
       "      <td>5</td>\n",
       "      <td>1.31</td>\n",
       "      <td>90</td>\n",
       "      <td>1</td>\n",
       "      <td>50</td>\n",
       "      <td>conv</td>\n",
       "      <td>15</td>\n",
       "      <td>5C</td>\n",
       "    </tr>\n",
       "    <tr>\n",
       "      <td>3</td>\n",
       "      <td>5</td>\n",
       "      <td>1.24</td>\n",
       "      <td>10</td>\n",
       "      <td>1</td>\n",
       "      <td>10</td>\n",
       "      <td>elastic</td>\n",
       "      <td>15</td>\n",
       "      <td>5E</td>\n",
       "    </tr>\n",
       "    <tr>\n",
       "      <td>4</td>\n",
       "      <td>5</td>\n",
       "      <td>1.27</td>\n",
       "      <td>Median</td>\n",
       "      <td>1</td>\n",
       "      <td>10</td>\n",
       "      <td>elastic</td>\n",
       "      <td>15</td>\n",
       "      <td>5E</td>\n",
       "    </tr>\n",
       "  </tbody>\n",
       "</table>\n",
       "</div>"
      ],
      "text/plain": [
       "   Bandwidth   MOS Percentile  Hosts  Delay Algorithms  Competition BWDiff\n",
       "0          5  1.23         10      1     50       conv           15     5C\n",
       "1          5  1.26     Median      1     50       conv           15     5C\n",
       "2          5  1.31         90      1     50       conv           15     5C\n",
       "3          5  1.24         10      1     10    elastic           15     5E\n",
       "4          5  1.27     Median      1     10    elastic           15     5E"
      ]
     },
     "execution_count": 75,
     "metadata": {},
     "output_type": "execute_result"
    }
   ],
   "source": [
    "df.head()"
   ]
  },
  {
   "cell_type": "code",
   "execution_count": 76,
   "metadata": {},
   "outputs": [],
   "source": [
    "#mean_10 = df[(df['Delay'] == 10)]"
   ]
  },
  {
   "cell_type": "code",
   "execution_count": 77,
   "metadata": {},
   "outputs": [],
   "source": [
    "arbiter_10 = df[(df['Algorithms'] == 'arbiter') & (df['Competition'] == 5)]"
   ]
  },
  {
   "cell_type": "code",
   "execution_count": 78,
   "metadata": {},
   "outputs": [],
   "source": [
    "conv_10 = df[(df['Algorithms'] == 'conv') & (df['Competition'] == 5)]"
   ]
  },
  {
   "cell_type": "code",
   "execution_count": 79,
   "metadata": {},
   "outputs": [],
   "source": [
    "elastic_5 = df[(df['Competition'] == 5)]"
   ]
  },
  {
   "cell_type": "code",
   "execution_count": 89,
   "metadata": {},
   "outputs": [
    {
     "data": {
      "image/png": "[encoded data removed]",
      "text/plain": [
       "<Figure size 717x216 with 3 Axes>"
      ]
     },
     "metadata": {},
     "output_type": "display_data"
    }
   ],
   "source": [
    "g = sns.FacetGrid(elastic_5, col=\"Delay\", hue=\"Percentile\",hue_kws={\"marker\": [\"v\", \"o\",\"^\"]})\n",
    "g.map(plt.scatter, \"BWDiff\", \"MOS\")\n",
    "g.add_legend(title= 'Algorithms');\n",
    "g.set_axis_labels(\"\", \"Mean Opinion Score\")\n",
    "axes = g.axes.flatten()\n",
    "axes[0].set_title(\"Delay 10 ms\")\n",
    "axes[1].set_title(\"Delay 50 ms\")\n",
    "axes[2].set_title(\"Delay 100 ms\")\n",
    "plt.subplots_adjust(top=0.80)"
   ]
  }
 ],
 "metadata": {
  "kernelspec": {
   "display_name": "Python 3",
   "language": "python",
   "name": "python3"
  },
  "language_info": {
   "codemirror_mode": {
    "name": "ipython",
    "version": 3
   },
   "file_extension": ".py",
   "mimetype": "text/x-python",
   "name": "python",
   "nbconvert_exporter": "python",
   "pygments_lexer": "ipython3",
   "version": "3.7.4"
  }
 },
 "nbformat": 4,
 "nbformat_minor": 2
}
