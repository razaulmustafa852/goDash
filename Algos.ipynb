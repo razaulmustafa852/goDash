{
 "cells": [
  {
   "cell_type": "code",
   "execution_count": 1,
   "metadata": {},
   "outputs": [],
   "source": [
    "import numpy\n",
    "import pandas as pd\n",
    "import numpy as np\n",
    "import matplotlib.pyplot as plt\n",
    "import seaborn as sns\n",
    "%matplotlib inline\n",
    "sns.set_style(\"whitegrid\")"
   ]
  },
  {
   "cell_type": "code",
   "execution_count": 2,
   "metadata": {},
   "outputs": [],
   "source": [
    "df = pd.read_csv(\"newPercentile/Percentile30 - Sheet1.csv\")"
   ]
  },
  {
   "cell_type": "code",
   "execution_count": 3,
   "metadata": {},
   "outputs": [
    {
     "data": {
      "text/html": [
       "<div>\n",
       "<style scoped>\n",
       "    .dataframe tbody tr th:only-of-type {\n",
       "        vertical-align: middle;\n",
       "    }\n",
       "\n",
       "    .dataframe tbody tr th {\n",
       "        vertical-align: top;\n",
       "    }\n",
       "\n",
       "    .dataframe thead th {\n",
       "        text-align: right;\n",
       "    }\n",
       "</style>\n",
       "<table border=\"1\" class=\"dataframe\">\n",
       "  <thead>\n",
       "    <tr style=\"text-align: right;\">\n",
       "      <th></th>\n",
       "      <th>Bandwidth</th>\n",
       "      <th>MOS</th>\n",
       "      <th>Percentile</th>\n",
       "      <th>Hosts</th>\n",
       "      <th>Delay</th>\n",
       "      <th>Algorithms</th>\n",
       "      <th>Competition</th>\n",
       "      <th>Resolutions</th>\n",
       "      <th>ResolutionsV</th>\n",
       "    </tr>\n",
       "  </thead>\n",
       "  <tbody>\n",
       "    <tr>\n",
       "      <td>0</td>\n",
       "      <td>10</td>\n",
       "      <td>1.58</td>\n",
       "      <td>10</td>\n",
       "      <td>1</td>\n",
       "      <td>50</td>\n",
       "      <td>conv</td>\n",
       "      <td>10</td>\n",
       "      <td>4</td>\n",
       "      <td>640x480</td>\n",
       "    </tr>\n",
       "    <tr>\n",
       "      <td>1</td>\n",
       "      <td>10</td>\n",
       "      <td>1.62</td>\n",
       "      <td>20</td>\n",
       "      <td>1</td>\n",
       "      <td>50</td>\n",
       "      <td>conv</td>\n",
       "      <td>10</td>\n",
       "      <td>4</td>\n",
       "      <td>640x480</td>\n",
       "    </tr>\n",
       "    <tr>\n",
       "      <td>2</td>\n",
       "      <td>10</td>\n",
       "      <td>1.72</td>\n",
       "      <td>30</td>\n",
       "      <td>1</td>\n",
       "      <td>50</td>\n",
       "      <td>conv</td>\n",
       "      <td>10</td>\n",
       "      <td>4</td>\n",
       "      <td>640x480</td>\n",
       "    </tr>\n",
       "    <tr>\n",
       "      <td>3</td>\n",
       "      <td>10</td>\n",
       "      <td>1.79</td>\n",
       "      <td>40</td>\n",
       "      <td>1</td>\n",
       "      <td>50</td>\n",
       "      <td>conv</td>\n",
       "      <td>10</td>\n",
       "      <td>4</td>\n",
       "      <td>640x480</td>\n",
       "    </tr>\n",
       "    <tr>\n",
       "      <td>4</td>\n",
       "      <td>10</td>\n",
       "      <td>1.87</td>\n",
       "      <td>50</td>\n",
       "      <td>1</td>\n",
       "      <td>50</td>\n",
       "      <td>conv</td>\n",
       "      <td>10</td>\n",
       "      <td>4</td>\n",
       "      <td>640x480</td>\n",
       "    </tr>\n",
       "  </tbody>\n",
       "</table>\n",
       "</div>"
      ],
      "text/plain": [
       "   Bandwidth   MOS  Percentile  Hosts  Delay Algorithms  Competition  \\\n",
       "0         10  1.58          10      1     50       conv           10   \n",
       "1         10  1.62          20      1     50       conv           10   \n",
       "2         10  1.72          30      1     50       conv           10   \n",
       "3         10  1.79          40      1     50       conv           10   \n",
       "4         10  1.87          50      1     50       conv           10   \n",
       "\n",
       "   Resolutions ResolutionsV  \n",
       "0            4      640x480  \n",
       "1            4      640x480  \n",
       "2            4      640x480  \n",
       "3            4      640x480  \n",
       "4            4      640x480  "
      ]
     },
     "execution_count": 3,
     "metadata": {},
     "output_type": "execute_result"
    }
   ],
   "source": [
    "df.head()"
   ]
  },
  {
   "cell_type": "code",
   "execution_count": 4,
   "metadata": {},
   "outputs": [],
   "source": [
    "#mean_10New = df[(df['Algorithms'] == 'arbiter') & (df['Competition'] == 10)]"
   ]
  },
  {
   "cell_type": "code",
   "execution_count": 5,
   "metadata": {},
   "outputs": [],
   "source": [
    "dataAlgosBand5 = df[(df['Bandwidth'] == 5) & (df['Delay'] == 100)]"
   ]
  },
  {
   "cell_type": "code",
   "execution_count": 6,
   "metadata": {},
   "outputs": [],
   "source": [
    "dataAlgosBand15 = df[(df['Bandwidth'] == 15) & (df['Delay'] == 10)]"
   ]
  },
  {
   "cell_type": "code",
   "execution_count": 10,
   "metadata": {},
   "outputs": [
    {
     "data": {
      "text/plain": [
       "Text(0.5, 0.98, 'Case Best: Bandwidth 15 mbit/s & Delay 10ms')"
      ]
     },
     "execution_count": 10,
     "metadata": {},
     "output_type": "execute_result"
    },
    {
     "data": {
      "image/png": "[encoded data removed]",
      "text/plain": [
       "<Figure size 695.125x216 with 3 Axes>"
      ]
     },
     "metadata": {
      "needs_background": "light"
     },
     "output_type": "display_data"
    }
   ],
   "source": [
    "g = sns.FacetGrid(dataAlgosBand15, col=\"Algorithms\", hue=\"Competition\",hue_kws={\"marker\": [\"*\", \"o\",\"x\"]}, col_order=['elastic','arbiter','conv'])\n",
    "g.map(plt.scatter, \"MOS\", \"Percentile\")\n",
    "g.add_legend(title= 'Nodes');\n",
    "axes = g.axes.flatten()\n",
    "axes[0].set_title(\"Elastic\")\n",
    "axes[1].set_title(\"Arbiter\")\n",
    "axes[2].set_title(\"Conventional\")\n",
    "plt.subplots_adjust(top=0.85)\n",
    "g.fig.suptitle('Case Best: Bandwidth 15 mbit/s & Delay 10ms') # can also get the figure from plt.gcf()\n"
   ]
  },
  {
   "cell_type": "code",
   "execution_count": 11,
   "metadata": {},
   "outputs": [
    {
     "data": {
      "text/plain": [
       "Text(0.5, 0.98, 'Case Worst: Bandwidth 5 mbit/s & Delay 100ms')"
      ]
     },
     "execution_count": 11,
     "metadata": {},
     "output_type": "execute_result"
    },
    {
     "data": {
      "image/png": "[encoded data removed]",
      "text/plain": [
       "<Figure size 695.125x216 with 3 Axes>"
      ]
     },
     "metadata": {
      "needs_background": "light"
     },
     "output_type": "display_data"
    }
   ],
   "source": [
    "g = sns.FacetGrid(dataAlgosBand5, col=\"Algorithms\", hue=\"Competition\",hue_kws={\"marker\": [\"*\", \"o\",\"x\"]}, col_order=['elastic','arbiter','conv'])\n",
    "g.map(plt.scatter, \"MOS\", \"Percentile\")\n",
    "g.add_legend(title= 'Nodes');\n",
    "axes = g.axes.flatten()\n",
    "axes[0].set_title(\"Elastic\")\n",
    "axes[1].set_title(\"Arbiter\")\n",
    "axes[2].set_title(\"Conventional\")\n",
    "plt.subplots_adjust(top=0.85)\n",
    "g.fig.suptitle('Case Worst: Bandwidth 5 mbit/s & Delay 100ms') # can also get the figure from plt.gcf()\n",
    "\n"
   ]
  },
  {
   "cell_type": "code",
   "execution_count": null,
   "metadata": {},
   "outputs": [],
   "source": []
  }
 ],
 "metadata": {
  "kernelspec": {
   "display_name": "Python 3",
   "language": "python",
   "name": "python3"
  },
  "language_info": {
   "codemirror_mode": {
    "name": "ipython",
    "version": 3
   },
   "file_extension": ".py",
   "mimetype": "text/x-python",
   "name": "python",
   "nbconvert_exporter": "python",
   "pygments_lexer": "ipython3",
   "version": "3.7.4"
  }
 },
 "nbformat": 4,
 "nbformat_minor": 2
}
