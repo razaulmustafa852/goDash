{
 "cells": [
  {
   "cell_type": "code",
   "execution_count": 17,
   "metadata": {},
   "outputs": [],
   "source": [
    "import numpy\n",
    "import pandas as pd\n",
    "import numpy as np\n",
    "import matplotlib.pyplot as plt\n",
    "import seaborn as sns\n",
    "%matplotlib inline\n",
    "sns.set_style(\"whitegrid\")"
   ]
  },
  {
   "cell_type": "code",
   "execution_count": 18,
   "metadata": {},
   "outputs": [],
   "source": [
    "df = pd.read_csv(\"newPercentile/Percentile30 - Sheet2.csv\")"
   ]
  },
  {
   "cell_type": "code",
   "execution_count": 29,
   "metadata": {},
   "outputs": [
    {
     "data": {
      "text/html": [
       "<div>\n",
       "<style scoped>\n",
       "    .dataframe tbody tr th:only-of-type {\n",
       "        vertical-align: middle;\n",
       "    }\n",
       "\n",
       "    .dataframe tbody tr th {\n",
       "        vertical-align: top;\n",
       "    }\n",
       "\n",
       "    .dataframe thead th {\n",
       "        text-align: right;\n",
       "    }\n",
       "</style>\n",
       "<table border=\"1\" class=\"dataframe\">\n",
       "  <thead>\n",
       "    <tr style=\"text-align: right;\">\n",
       "      <th></th>\n",
       "      <th>Bandwidth</th>\n",
       "      <th>MOS</th>\n",
       "      <th>Percentile</th>\n",
       "      <th>Hosts</th>\n",
       "      <th>Delay</th>\n",
       "      <th>Algorithms</th>\n",
       "      <th>Competition</th>\n",
       "    </tr>\n",
       "  </thead>\n",
       "  <tbody>\n",
       "    <tr>\n",
       "      <td>0</td>\n",
       "      <td>10</td>\n",
       "      <td>1.580000</td>\n",
       "      <td>10</td>\n",
       "      <td>1</td>\n",
       "      <td>50</td>\n",
       "      <td>conv</td>\n",
       "      <td>10</td>\n",
       "    </tr>\n",
       "    <tr>\n",
       "      <td>1</td>\n",
       "      <td>10</td>\n",
       "      <td>2.440000</td>\n",
       "      <td>90</td>\n",
       "      <td>1</td>\n",
       "      <td>50</td>\n",
       "      <td>conv</td>\n",
       "      <td>10</td>\n",
       "    </tr>\n",
       "    <tr>\n",
       "      <td>2</td>\n",
       "      <td>10</td>\n",
       "      <td>1.090767</td>\n",
       "      <td>Mean</td>\n",
       "      <td>1</td>\n",
       "      <td>50</td>\n",
       "      <td>conv</td>\n",
       "      <td>10</td>\n",
       "    </tr>\n",
       "    <tr>\n",
       "      <td>3</td>\n",
       "      <td>10</td>\n",
       "      <td>1.270000</td>\n",
       "      <td>10</td>\n",
       "      <td>1</td>\n",
       "      <td>100</td>\n",
       "      <td>conv</td>\n",
       "      <td>10</td>\n",
       "    </tr>\n",
       "    <tr>\n",
       "      <td>4</td>\n",
       "      <td>10</td>\n",
       "      <td>1.490000</td>\n",
       "      <td>90</td>\n",
       "      <td>1</td>\n",
       "      <td>100</td>\n",
       "      <td>conv</td>\n",
       "      <td>10</td>\n",
       "    </tr>\n",
       "  </tbody>\n",
       "</table>\n",
       "</div>"
      ],
      "text/plain": [
       "   Bandwidth       MOS Percentile  Hosts  Delay Algorithms  Competition\n",
       "0         10  1.580000         10      1     50       conv           10\n",
       "1         10  2.440000         90      1     50       conv           10\n",
       "2         10  1.090767       Mean      1     50       conv           10\n",
       "3         10  1.270000         10      1    100       conv           10\n",
       "4         10  1.490000         90      1    100       conv           10"
      ]
     },
     "execution_count": 29,
     "metadata": {},
     "output_type": "execute_result"
    }
   ],
   "source": [
    "df.head()"
   ]
  },
  {
   "cell_type": "code",
   "execution_count": 30,
   "metadata": {},
   "outputs": [],
   "source": [
    "#mean_10 = df[(df['Delay'] == 10)]"
   ]
  },
  {
   "cell_type": "code",
   "execution_count": 31,
   "metadata": {},
   "outputs": [],
   "source": [
    "arbiter_10 = df[(df['Algorithms'] == 'arbiter') & (df['Competition'] == 5)]"
   ]
  },
  {
   "cell_type": "code",
   "execution_count": 32,
   "metadata": {},
   "outputs": [],
   "source": [
    "conv_10 = df[(df['Algorithms'] == 'conv') & (df['Competition'] == 5)]"
   ]
  },
  {
   "cell_type": "code",
   "execution_count": 33,
   "metadata": {},
   "outputs": [],
   "source": [
    "elastic_5 = df[(df['Algorithms'] == 'elastic') & (df['Competition'] == 5)]"
   ]
  },
  {
   "cell_type": "code",
   "execution_count": 34,
   "metadata": {},
   "outputs": [
    {
     "data": {
      "image/png": "[encoded data removed]",
      "text/plain": [
       "<Figure size 709.125x216 with 3 Axes>"
      ]
     },
     "metadata": {},
     "output_type": "display_data"
    }
   ],
   "source": [
    "g = sns.FacetGrid(elastic_5, col=\"Delay\", hue=\"Percentile\",hue_kws={\"marker\": [\"1\", \"2\",\"3\"]})\n",
    "g.map(plt.scatter, \"Bandwidth\", \"MOS\")\n",
    "#g.add_legend(title= 'Nodes');\n",
    "g.set_axis_labels(\"Bandwidth\", \"Mean Opinion Score\")\n",
    "g.add_legend(title= 'Percentile')\n",
    "plt.xticks([5, 10, 15])\n",
    "\n",
    "\n",
    "axes = g.axes.flatten()\n",
    "axes[0].set_title(\"Delay 10 ms\")\n",
    "axes[1].set_title(\"Delay 50 ms\")\n",
    "axes[2].set_title(\"Delay 100 ms\")\n",
    "plt.subplots_adjust(top=0.80)\n",
    "g.fig.suptitle('Elastic: 5 Nodes competing for video') # can also get the figure from plt.gcf()\n",
    "plt.savefig('elastic.eps', format='eps')"
   ]
  },
  {
   "cell_type": "code",
   "execution_count": null,
   "metadata": {},
   "outputs": [],
   "source": []
  },
  {
   "cell_type": "code",
   "execution_count": 35,
   "metadata": {},
   "outputs": [
    {
     "data": {
      "text/plain": [
       "Text(0.5, 0.98, 'Elastic: 5 Nodes competing for video')"
      ]
     },
     "execution_count": 35,
     "metadata": {},
     "output_type": "execute_result"
    },
    {
     "data": {
      "image/png": "[encoded data removed]",
      "text/plain": [
       "<Figure size 709.125x216 with 3 Axes>"
      ]
     },
     "metadata": {},
     "output_type": "display_data"
    }
   ],
   "source": [
    "g = sns.FacetGrid(elastic_5, col=\"Delay\", hue=\"Percentile\",hue_kws={\"marker\": [\"1\", \"2\",\"3\"]})\n",
    "g.map(plt.scatter, \"Bandwidth\", \"MOS\", alpha=.7)\n",
    "#g.add_legend(title= 'Nodes');\n",
    "g.set_axis_labels(\"Bandwidth\", \"Mean Opinion Score\")\n",
    "g.add_legend(title= 'Percentile')\n",
    "plt.xticks([5, 10, 15])\n",
    "\n",
    "\n",
    "axes = g.axes.flatten()\n",
    "axes[0].set_title(\"Delay 10 ms\")\n",
    "axes[1].set_title(\"Delay 50 ms\")\n",
    "axes[2].set_title(\"Delay 100 ms\")\n",
    "plt.subplots_adjust(top=0.80)\n",
    "g.fig.suptitle('Elastic: 5 Nodes competing for video') # can also get the figure from plt.gcf()\n"
   ]
  },
  {
   "cell_type": "code",
   "execution_count": null,
   "metadata": {},
   "outputs": [],
   "source": []
  },
  {
   "cell_type": "code",
   "execution_count": 36,
   "metadata": {},
   "outputs": [
    {
     "data": {
      "text/plain": [
       "Text(0.5, 0.98, 'Conv: 5 Nodes competing for video')"
      ]
     },
     "execution_count": 36,
     "metadata": {},
     "output_type": "execute_result"
    },
    {
     "data": {
      "image/png": "[encoded data removed]",
      "text/plain": [
       "<Figure size 709.125x216 with 3 Axes>"
      ]
     },
     "metadata": {},
     "output_type": "display_data"
    }
   ],
   "source": [
    "g = sns.FacetGrid(conv_10, col=\"Delay\", hue=\"Percentile\",hue_kws={\"marker\": [\"1\", \"2\",\"3\"]})\n",
    "g.map(plt.scatter, \"Bandwidth\", \"MOS\", alpha=.7)\n",
    "#g.add_legend(title= 'Nodes');\n",
    "g.set_axis_labels(\"Bandwidth\", \"Mean Opinion Score\")\n",
    "g.add_legend(title= 'Percentile')\n",
    "plt.xticks([5, 10, 15])\n",
    "\n",
    "\n",
    "axes = g.axes.flatten()\n",
    "axes[0].set_title(\"Latency 10 ms\")\n",
    "axes[1].set_title(\"Latency 50 ms\")\n",
    "axes[2].set_title(\"Latency 100 ms\")\n",
    "plt.subplots_adjust(top=0.80)\n",
    "g.fig.suptitle('Conv: 5 Nodes competing for video') # can also get the figure from plt.gcf()\n",
    "\n",
    "#plt.savefig('conv15.eps', format='eps')"
   ]
  },
  {
   "cell_type": "code",
   "execution_count": null,
   "metadata": {},
   "outputs": [],
   "source": []
  },
  {
   "cell_type": "code",
   "execution_count": null,
   "metadata": {},
   "outputs": [],
   "source": []
  }
 ],
 "metadata": {
  "kernelspec": {
   "display_name": "Python 3",
   "language": "python",
   "name": "python3"
  },
  "language_info": {
   "codemirror_mode": {
    "name": "ipython",
    "version": 3
   },
   "file_extension": ".py",
   "mimetype": "text/x-python",
   "name": "python",
   "nbconvert_exporter": "python",
   "pygments_lexer": "ipython3",
   "version": "3.7.4"
  }
 },
 "nbformat": 4,
 "nbformat_minor": 2
}
